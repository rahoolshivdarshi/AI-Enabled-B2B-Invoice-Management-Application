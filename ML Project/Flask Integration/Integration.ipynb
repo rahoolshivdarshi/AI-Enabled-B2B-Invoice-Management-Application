{
 "cells": [
  {
   "cell_type": "code",
   "execution_count": null,
   "metadata": {},
   "outputs": [
    {
     "name": "stdout",
     "output_type": "stream",
     "text": [
      " * Serving Flask app \"__main__\" (lazy loading)\n",
      " * Environment: production\n",
      "   WARNING: This is a development server. Do not use it in a production deployment.\n",
      "   Use a production WSGI server instead.\n",
      " * Debug mode: off\n"
     ]
    },
    {
     "name": "stderr",
     "output_type": "stream",
     "text": [
      " * Running on http://127.0.0.1:5000/ (Press CTRL+C to quit)\n",
      "127.0.0.1 - - [14/Apr/2022 02:09:19] \"\u001b[37mOPTIONS /get_prediction HTTP/1.1\u001b[0m\" 200 -\n"
     ]
    },
    {
     "name": "stdout",
     "output_type": "stream",
     "text": [
      "[1930817482, 1930052739, 1930209407]\n",
      " Predict\n"
     ]
    },
    {
     "name": "stderr",
     "output_type": "stream",
     "text": [
      "127.0.0.1 - - [14/Apr/2022 02:09:22] \"\u001b[37mPOST /get_prediction HTTP/1.1\u001b[0m\" 200 -\n",
      "127.0.0.1 - - [14/Apr/2022 02:09:45] \"\u001b[37mOPTIONS /get_prediction HTTP/1.1\u001b[0m\" 200 -\n"
     ]
    },
    {
     "name": "stdout",
     "output_type": "stream",
     "text": [
      "[1930817482, 1930052739, 1930209407]\n",
      " Predict\n"
     ]
    },
    {
     "name": "stderr",
     "output_type": "stream",
     "text": [
      "127.0.0.1 - - [14/Apr/2022 02:09:46] \"\u001b[37mPOST /get_prediction HTTP/1.1\u001b[0m\" 200 -\n"
     ]
    },
    {
     "name": "stdout",
     "output_type": "stream",
     "text": [
      "[2960552326, 1930645969, 1930718081, 1929867941]\n",
      " Predict\n"
     ]
    },
    {
     "name": "stderr",
     "output_type": "stream",
     "text": [
      "127.0.0.1 - - [14/Apr/2022 02:10:23] \"\u001b[37mPOST /get_prediction HTTP/1.1\u001b[0m\" 200 -\n",
      "127.0.0.1 - - [14/Apr/2022 02:10:23] \"\u001b[37mPOST / HTTP/1.1\u001b[0m\" 200 -\n"
     ]
    },
    {
     "name": "stdout",
     "output_type": "stream",
     "text": [
      "{'business_code': 'CA02', 'cust_number': 140104409, 'name_customer': 'HighRadius', 'clear_date': '2019-06-21', 'buisness_year': 2019, 'doc_id': '2960552326', 'posting_date': '2019-06-02', 'due_in_date': '2019-06-19', 'baseline_create_date': '2019-06-09', 'cust_payment_terms': 'CA10', 'converted_usd': 1383322.32}\n",
      "{'business_code': 'CA02', 'cust_number': 140104409, 'name_customer': 'HighRadius', 'clear_date': '2019-06-21', 'buisness_year': 2019, 'doc_id': '2960552326', 'posting_date': '2019-06-02', 'due_in_date': '2019-06-19', 'baseline_create_date': '2019-06-09', 'cust_payment_terms': 'CA10', 'converted_usd': 1383322.32}\n",
      " Predict\n"
     ]
    },
    {
     "name": "stderr",
     "output_type": "stream",
     "text": [
      "127.0.0.1 - - [14/Apr/2022 02:10:24] \"\u001b[37mPOST / HTTP/1.1\u001b[0m\" 200 -\n"
     ]
    },
    {
     "name": "stdout",
     "output_type": "stream",
     "text": [
      "{'business_code': 'U001', 'cust_number': 200455322, 'name_customer': 'HighRadius', 'clear_date': '2019-11-07', 'buisness_year': 2019, 'doc_id': '1929867941', 'posting_date': '2019-09-12', 'due_in_date': '2019-10-12', 'baseline_create_date': '2019-09-12', 'cust_payment_terms': 'NAD5', 'converted_usd': 42362.3}\n",
      "{'business_code': 'U001', 'cust_number': 200455322, 'name_customer': 'HighRadius', 'clear_date': '2019-11-07', 'buisness_year': 2019, 'doc_id': '1929867941', 'posting_date': '2019-09-12', 'due_in_date': '2019-10-12', 'baseline_create_date': '2019-09-12', 'cust_payment_terms': 'NAD5', 'converted_usd': 42362.3}\n",
      " Predict\n",
      "[1929854327]\n",
      " Predict\n"
     ]
    },
    {
     "name": "stderr",
     "output_type": "stream",
     "text": [
      "127.0.0.1 - - [14/Apr/2022 02:21:41] \"\u001b[37mPOST /get_prediction HTTP/1.1\u001b[0m\" 200 -\n",
      "127.0.0.1 - - [14/Apr/2022 02:21:41] \"\u001b[37mPOST / HTTP/1.1\u001b[0m\" 200 -\n"
     ]
    },
    {
     "name": "stdout",
     "output_type": "stream",
     "text": [
      "{'business_code': 'U001', 'cust_number': 200290370, 'name_customer': 'HighRadius', 'clear_date': '2019-09-27', 'buisness_year': 2019, 'doc_id': '1929854327', 'posting_date': '2019-09-10', 'due_in_date': '2019-09-25', 'baseline_create_date': '2019-09-10', 'cust_payment_terms': 'NAA8', 'converted_usd': 6347.86}\n",
      "{'business_code': 'U001', 'cust_number': 200290370, 'name_customer': 'HighRadius', 'clear_date': '2019-09-27', 'buisness_year': 2019, 'doc_id': '1929854327', 'posting_date': '2019-09-10', 'due_in_date': '2019-09-25', 'baseline_create_date': '2019-09-10', 'cust_payment_terms': 'NAA8', 'converted_usd': 6347.86}\n",
      " Predict\n",
      "[1929559339, 1930788667, 1929940577]\n",
      " Predict\n"
     ]
    },
    {
     "name": "stderr",
     "output_type": "stream",
     "text": [
      "127.0.0.1 - - [14/Apr/2022 11:21:28] \"\u001b[37mPOST /get_prediction HTTP/1.1\u001b[0m\" 200 -\n",
      "127.0.0.1 - - [14/Apr/2022 11:21:29] \"\u001b[37mPOST / HTTP/1.1\u001b[0m\" 200 -\n"
     ]
    },
    {
     "name": "stdout",
     "output_type": "stream",
     "text": [
      "{'business_code': 'U001', 'cust_number': 200769623, 'name_customer': 'HighRadius', 'clear_date': '2019-07-10', 'buisness_year': 2019, 'doc_id': '1929559339', 'posting_date': '2019-06-30', 'due_in_date': '2019-07-15', 'baseline_create_date': '2019-06-30', 'cust_payment_terms': 'NAH4', 'converted_usd': 48129.8}\n",
      "{'business_code': 'U001', 'cust_number': 200769623, 'name_customer': 'HighRadius', 'clear_date': '2019-07-10', 'buisness_year': 2019, 'doc_id': '1929559339', 'posting_date': '2019-06-30', 'due_in_date': '2019-07-15', 'baseline_create_date': '2019-06-30', 'cust_payment_terms': 'NAH4', 'converted_usd': 48129.8}\n",
      " Predict\n"
     ]
    },
    {
     "name": "stderr",
     "output_type": "stream",
     "text": [
      "127.0.0.1 - - [14/Apr/2022 11:21:29] \"\u001b[37mPOST / HTTP/1.1\u001b[0m\" 200 -\n"
     ]
    },
    {
     "name": "stdout",
     "output_type": "stream",
     "text": [
      "{'business_code': 'U001', 'cust_number': 200769623, 'name_customer': 'HighRadius', 'clear_date': '2019-10-10', 'buisness_year': 2019, 'doc_id': '1929940577', 'posting_date': '2019-09-29', 'due_in_date': '2019-10-14', 'baseline_create_date': '2019-09-29', 'cust_payment_terms': 'NAH4', 'converted_usd': 5957.04}\n",
      "{'business_code': 'U001', 'cust_number': 200769623, 'name_customer': 'HighRadius', 'clear_date': '2019-10-10', 'buisness_year': 2019, 'doc_id': '1929940577', 'posting_date': '2019-09-29', 'due_in_date': '2019-10-14', 'baseline_create_date': '2019-09-29', 'cust_payment_terms': 'NAH4', 'converted_usd': 5957.04}\n",
      " Predict\n",
      "[1930610806, 1928550622, 1929151655, 1930022117]\n",
      " Predict\n"
     ]
    },
    {
     "name": "stderr",
     "output_type": "stream",
     "text": [
      "127.0.0.1 - - [14/Apr/2022 11:22:19] \"\u001b[37mPOST /get_prediction HTTP/1.1\u001b[0m\" 200 -\n",
      "127.0.0.1 - - [14/Apr/2022 11:22:20] \"\u001b[37mPOST / HTTP/1.1\u001b[0m\" 200 -\n"
     ]
    },
    {
     "name": "stdout",
     "output_type": "stream",
     "text": [
      "{'business_code': 'U001', 'cust_number': 200743129, 'name_customer': 'HighRadius', 'clear_date': '2019-01-22', 'buisness_year': 2019, 'doc_id': '1928550622', 'posting_date': '2019-01-02', 'due_in_date': '2019-01-17', 'baseline_create_date': '2019-01-02', 'cust_payment_terms': 'NAA8', 'converted_usd': 103147.37}\n",
      "{'business_code': 'U001', 'cust_number': 200743129, 'name_customer': 'HighRadius', 'clear_date': '2019-01-22', 'buisness_year': 2019, 'doc_id': '1928550622', 'posting_date': '2019-01-02', 'due_in_date': '2019-01-17', 'baseline_create_date': '2019-01-02', 'cust_payment_terms': 'NAA8', 'converted_usd': 103147.37}\n",
      " Predict\n"
     ]
    },
    {
     "name": "stderr",
     "output_type": "stream",
     "text": [
      "127.0.0.1 - - [14/Apr/2022 11:22:20] \"\u001b[37mPOST / HTTP/1.1\u001b[0m\" 200 -\n"
     ]
    },
    {
     "name": "stdout",
     "output_type": "stream",
     "text": [
      "{'business_code': 'U001', 'cust_number': 200186937, 'name_customer': 'HighRadius', 'clear_date': '2019-05-06', 'buisness_year': 2019, 'doc_id': '1929151655', 'posting_date': '2019-04-15', 'due_in_date': '2019-04-30', 'baseline_create_date': '2019-04-15', 'cust_payment_terms': 'NAA8', 'converted_usd': 16381.45}\n",
      "{'business_code': 'U001', 'cust_number': 200186937, 'name_customer': 'HighRadius', 'clear_date': '2019-05-06', 'buisness_year': 2019, 'doc_id': '1929151655', 'posting_date': '2019-04-15', 'due_in_date': '2019-04-30', 'baseline_create_date': '2019-04-15', 'cust_payment_terms': 'NAA8', 'converted_usd': 16381.45}\n",
      " Predict\n"
     ]
    },
    {
     "name": "stderr",
     "output_type": "stream",
     "text": [
      "127.0.0.1 - - [14/Apr/2022 11:22:20] \"\u001b[37mPOST / HTTP/1.1\u001b[0m\" 200 -\n"
     ]
    },
    {
     "name": "stdout",
     "output_type": "stream",
     "text": [
      "{'business_code': 'U001', 'cust_number': 200721222, 'name_customer': 'HighRadius', 'clear_date': '2019-11-01', 'buisness_year': 2019, 'doc_id': '1930022117', 'posting_date': '2019-10-17', 'due_in_date': '2019-11-01', 'baseline_create_date': '2019-10-17', 'cust_payment_terms': 'NAA8', 'converted_usd': 19581.57}\n",
      "{'business_code': 'U001', 'cust_number': 200721222, 'name_customer': 'HighRadius', 'clear_date': '2019-11-01', 'buisness_year': 2019, 'doc_id': '1930022117', 'posting_date': '2019-10-17', 'due_in_date': '2019-11-01', 'baseline_create_date': '2019-10-17', 'cust_payment_terms': 'NAA8', 'converted_usd': 19581.57}\n",
      " Predict\n",
      "[1930610806, 1928550622, 1929151655, 1930022117, 1930817482]\n",
      " Predict\n"
     ]
    },
    {
     "name": "stderr",
     "output_type": "stream",
     "text": [
      "127.0.0.1 - - [14/Apr/2022 11:22:46] \"\u001b[37mPOST /get_prediction HTTP/1.1\u001b[0m\" 200 -\n",
      "127.0.0.1 - - [14/Apr/2022 11:22:47] \"\u001b[37mPOST / HTTP/1.1\u001b[0m\" 200 -\n"
     ]
    },
    {
     "name": "stdout",
     "output_type": "stream",
     "text": [
      "{'business_code': 'U001', 'cust_number': 200743129, 'name_customer': 'HighRadius', 'clear_date': '2019-01-22', 'buisness_year': 2019, 'doc_id': '1928550622', 'posting_date': '2019-01-02', 'due_in_date': '2019-01-17', 'baseline_create_date': '2019-01-02', 'cust_payment_terms': 'NAA8', 'converted_usd': 103147.37}\n",
      "{'business_code': 'U001', 'cust_number': 200743129, 'name_customer': 'HighRadius', 'clear_date': '2019-01-22', 'buisness_year': 2019, 'doc_id': '1928550622', 'posting_date': '2019-01-02', 'due_in_date': '2019-01-17', 'baseline_create_date': '2019-01-02', 'cust_payment_terms': 'NAA8', 'converted_usd': 103147.37}\n",
      " Predict\n"
     ]
    },
    {
     "name": "stderr",
     "output_type": "stream",
     "text": [
      "127.0.0.1 - - [14/Apr/2022 11:22:47] \"\u001b[37mPOST / HTTP/1.1\u001b[0m\" 200 -\n"
     ]
    },
    {
     "name": "stdout",
     "output_type": "stream",
     "text": [
      "{'business_code': 'U001', 'cust_number': 200186937, 'name_customer': 'HighRadius', 'clear_date': '2019-05-06', 'buisness_year': 2019, 'doc_id': '1929151655', 'posting_date': '2019-04-15', 'due_in_date': '2019-04-30', 'baseline_create_date': '2019-04-15', 'cust_payment_terms': 'NAA8', 'converted_usd': 16381.45}\n",
      "{'business_code': 'U001', 'cust_number': 200186937, 'name_customer': 'HighRadius', 'clear_date': '2019-05-06', 'buisness_year': 2019, 'doc_id': '1929151655', 'posting_date': '2019-04-15', 'due_in_date': '2019-04-30', 'baseline_create_date': '2019-04-15', 'cust_payment_terms': 'NAA8', 'converted_usd': 16381.45}\n",
      " Predict\n"
     ]
    },
    {
     "name": "stderr",
     "output_type": "stream",
     "text": [
      "127.0.0.1 - - [14/Apr/2022 11:22:47] \"\u001b[37mPOST / HTTP/1.1\u001b[0m\" 200 -\n"
     ]
    },
    {
     "name": "stdout",
     "output_type": "stream",
     "text": [
      "{'business_code': 'U001', 'cust_number': 200721222, 'name_customer': 'HighRadius', 'clear_date': '2019-11-01', 'buisness_year': 2019, 'doc_id': '1930022117', 'posting_date': '2019-10-17', 'due_in_date': '2019-11-01', 'baseline_create_date': '2019-10-17', 'cust_payment_terms': 'NAA8', 'converted_usd': 19581.57}\n",
      "{'business_code': 'U001', 'cust_number': 200721222, 'name_customer': 'HighRadius', 'clear_date': '2019-11-01', 'buisness_year': 2019, 'doc_id': '1930022117', 'posting_date': '2019-10-17', 'due_in_date': '2019-11-01', 'baseline_create_date': '2019-10-17', 'cust_payment_terms': 'NAA8', 'converted_usd': 19581.57}\n",
      " Predict\n",
      "[1929873765, 2960623488, 1929646410]\n",
      " Predict\n"
     ]
    },
    {
     "name": "stderr",
     "output_type": "stream",
     "text": [
      "127.0.0.1 - - [14/Apr/2022 13:16:56] \"\u001b[37mPOST /get_prediction HTTP/1.1\u001b[0m\" 200 -\n",
      "127.0.0.1 - - [14/Apr/2022 13:16:57] \"\u001b[37mPOST / HTTP/1.1\u001b[0m\" 200 -\n"
     ]
    },
    {
     "name": "stdout",
     "output_type": "stream",
     "text": [
      "{'business_code': 'U001', 'cust_number': 200792734, 'name_customer': 'HighRadius', 'clear_date': '2019-12-30', 'buisness_year': 2019, 'doc_id': '1929873765', 'posting_date': '2019-09-14', 'due_in_date': '2019-09-29', 'baseline_create_date': '2019-09-14', 'cust_payment_terms': 'NAA8', 'converted_usd': 2253.86}\n",
      "{'business_code': 'U001', 'cust_number': 200792734, 'name_customer': 'HighRadius', 'clear_date': '2019-12-30', 'buisness_year': 2019, 'doc_id': '1929873765', 'posting_date': '2019-09-14', 'due_in_date': '2019-09-29', 'baseline_create_date': '2019-09-14', 'cust_payment_terms': 'NAA8', 'converted_usd': 2253.86}\n",
      " Predict\n"
     ]
    },
    {
     "name": "stderr",
     "output_type": "stream",
     "text": [
      "127.0.0.1 - - [14/Apr/2022 13:16:57] \"\u001b[37mPOST / HTTP/1.1\u001b[0m\" 200 -\n"
     ]
    },
    {
     "name": "stdout",
     "output_type": "stream",
     "text": [
      "{'business_code': 'U001', 'cust_number': 200980828, 'name_customer': 'HighRadius', 'clear_date': '2019-08-08', 'buisness_year': 2019, 'doc_id': '1929646410', 'posting_date': '2019-07-22', 'due_in_date': '2019-08-11', 'baseline_create_date': '2019-07-22', 'cust_payment_terms': 'NAD1', 'converted_usd': 79656.6}\n",
      "{'business_code': 'U001', 'cust_number': 200980828, 'name_customer': 'HighRadius', 'clear_date': '2019-08-08', 'buisness_year': 2019, 'doc_id': '1929646410', 'posting_date': '2019-07-22', 'due_in_date': '2019-08-11', 'baseline_create_date': '2019-07-22', 'cust_payment_terms': 'NAD1', 'converted_usd': 79656.6}\n",
      " Predict\n",
      "[1929646410, 1929873765, 2960623488]\n",
      " Predict\n"
     ]
    },
    {
     "name": "stderr",
     "output_type": "stream",
     "text": [
      "127.0.0.1 - - [14/Apr/2022 13:18:21] \"\u001b[37mPOST /get_prediction HTTP/1.1\u001b[0m\" 200 -\n",
      "127.0.0.1 - - [14/Apr/2022 13:18:21] \"\u001b[37mPOST / HTTP/1.1\u001b[0m\" 200 -\n"
     ]
    },
    {
     "name": "stdout",
     "output_type": "stream",
     "text": [
      "{'business_code': 'U001', 'cust_number': 200980828, 'name_customer': 'HighRadius', 'clear_date': '2019-08-08', 'buisness_year': 2019, 'doc_id': '1929646410', 'posting_date': '2019-07-22', 'due_in_date': '2019-08-11', 'baseline_create_date': '2019-07-22', 'cust_payment_terms': 'NAD1', 'converted_usd': 79656.6}\n",
      "{'business_code': 'U001', 'cust_number': 200980828, 'name_customer': 'HighRadius', 'clear_date': '2019-08-08', 'buisness_year': 2019, 'doc_id': '1929646410', 'posting_date': '2019-07-22', 'due_in_date': '2019-08-11', 'baseline_create_date': '2019-07-22', 'cust_payment_terms': 'NAD1', 'converted_usd': 79656.6}\n",
      " Predict\n"
     ]
    },
    {
     "name": "stderr",
     "output_type": "stream",
     "text": [
      "127.0.0.1 - - [14/Apr/2022 13:18:22] \"\u001b[37mPOST / HTTP/1.1\u001b[0m\" 200 -\n"
     ]
    },
    {
     "name": "stdout",
     "output_type": "stream",
     "text": [
      "{'business_code': 'U001', 'cust_number': 200792734, 'name_customer': 'HighRadius', 'clear_date': '2019-12-30', 'buisness_year': 2019, 'doc_id': '1929873765', 'posting_date': '2019-09-14', 'due_in_date': '2019-09-29', 'baseline_create_date': '2019-09-14', 'cust_payment_terms': 'NAA8', 'converted_usd': 2253.86}\n",
      "{'business_code': 'U001', 'cust_number': 200792734, 'name_customer': 'HighRadius', 'clear_date': '2019-12-30', 'buisness_year': 2019, 'doc_id': '1929873765', 'posting_date': '2019-09-14', 'due_in_date': '2019-09-29', 'baseline_create_date': '2019-09-14', 'cust_payment_terms': 'NAA8', 'converted_usd': 2253.86}\n",
      " Predict\n",
      "[1929646410, 1929873765, 2960623488]\n",
      " Predict\n"
     ]
    },
    {
     "name": "stderr",
     "output_type": "stream",
     "text": [
      "127.0.0.1 - - [14/Apr/2022 13:18:44] \"\u001b[37mPOST /get_prediction HTTP/1.1\u001b[0m\" 200 -\n",
      "127.0.0.1 - - [14/Apr/2022 13:18:44] \"\u001b[37mPOST / HTTP/1.1\u001b[0m\" 200 -\n"
     ]
    },
    {
     "name": "stdout",
     "output_type": "stream",
     "text": [
      "{'business_code': 'U001', 'cust_number': 200980828, 'name_customer': 'HighRadius', 'clear_date': '2019-08-08', 'buisness_year': 2019, 'doc_id': '1929646410', 'posting_date': '2019-07-22', 'due_in_date': '2019-08-11', 'baseline_create_date': '2019-07-22', 'cust_payment_terms': 'NAD1', 'converted_usd': 79656.6}\n",
      "{'business_code': 'U001', 'cust_number': 200980828, 'name_customer': 'HighRadius', 'clear_date': '2019-08-08', 'buisness_year': 2019, 'doc_id': '1929646410', 'posting_date': '2019-07-22', 'due_in_date': '2019-08-11', 'baseline_create_date': '2019-07-22', 'cust_payment_terms': 'NAD1', 'converted_usd': 79656.6}\n",
      " Predict\n"
     ]
    },
    {
     "name": "stderr",
     "output_type": "stream",
     "text": [
      "127.0.0.1 - - [14/Apr/2022 13:18:45] \"\u001b[37mPOST / HTTP/1.1\u001b[0m\" 200 -\n"
     ]
    },
    {
     "name": "stdout",
     "output_type": "stream",
     "text": [
      "{'business_code': 'U001', 'cust_number': 200792734, 'name_customer': 'HighRadius', 'clear_date': '2019-12-30', 'buisness_year': 2019, 'doc_id': '1929873765', 'posting_date': '2019-09-14', 'due_in_date': '2019-09-29', 'baseline_create_date': '2019-09-14', 'cust_payment_terms': 'NAA8', 'converted_usd': 2253.86}\n",
      "{'business_code': 'U001', 'cust_number': 200792734, 'name_customer': 'HighRadius', 'clear_date': '2019-12-30', 'buisness_year': 2019, 'doc_id': '1929873765', 'posting_date': '2019-09-14', 'due_in_date': '2019-09-29', 'baseline_create_date': '2019-09-14', 'cust_payment_terms': 'NAA8', 'converted_usd': 2253.86}\n",
      " Predict\n",
      "[1929873765]\n",
      " Predict\n"
     ]
    },
    {
     "name": "stderr",
     "output_type": "stream",
     "text": [
      "127.0.0.1 - - [14/Apr/2022 13:18:54] \"\u001b[37mPOST /get_prediction HTTP/1.1\u001b[0m\" 200 -\n",
      "127.0.0.1 - - [14/Apr/2022 13:18:54] \"\u001b[37mPOST / HTTP/1.1\u001b[0m\" 200 -\n"
     ]
    },
    {
     "name": "stdout",
     "output_type": "stream",
     "text": [
      "{'business_code': 'U001', 'cust_number': 200792734, 'name_customer': 'HighRadius', 'clear_date': '2019-12-30', 'buisness_year': 2019, 'doc_id': '1929873765', 'posting_date': '2019-09-14', 'due_in_date': '2019-09-29', 'baseline_create_date': '2019-09-14', 'cust_payment_terms': 'NAA8', 'converted_usd': 2253.86}\n",
      "{'business_code': 'U001', 'cust_number': 200792734, 'name_customer': 'HighRadius', 'clear_date': '2019-12-30', 'buisness_year': 2019, 'doc_id': '1929873765', 'posting_date': '2019-09-14', 'due_in_date': '2019-09-29', 'baseline_create_date': '2019-09-14', 'cust_payment_terms': 'NAA8', 'converted_usd': 2253.86}\n",
      " Predict\n",
      "[1929873765]\n",
      " Predict\n"
     ]
    },
    {
     "name": "stderr",
     "output_type": "stream",
     "text": [
      "127.0.0.1 - - [14/Apr/2022 13:19:54] \"\u001b[37mPOST /get_prediction HTTP/1.1\u001b[0m\" 200 -\n",
      "127.0.0.1 - - [14/Apr/2022 13:19:54] \"\u001b[37mPOST / HTTP/1.1\u001b[0m\" 200 -\n"
     ]
    },
    {
     "name": "stdout",
     "output_type": "stream",
     "text": [
      "{'business_code': 'U001', 'cust_number': 200792734, 'name_customer': 'HighRadius', 'clear_date': '2019-12-30', 'buisness_year': 2019, 'doc_id': '1929873765', 'posting_date': '2019-09-14', 'due_in_date': '2019-09-29', 'baseline_create_date': '2019-09-14', 'cust_payment_terms': 'NAA8', 'converted_usd': 2253.86}\n",
      "{'business_code': 'U001', 'cust_number': 200792734, 'name_customer': 'HighRadius', 'clear_date': '2019-12-30', 'buisness_year': 2019, 'doc_id': '1929873765', 'posting_date': '2019-09-14', 'due_in_date': '2019-09-29', 'baseline_create_date': '2019-09-14', 'cust_payment_terms': 'NAA8', 'converted_usd': 2253.86}\n",
      " Predict\n",
      "[1929873765, 2960623488, 1929646410]\n",
      " Predict\n"
     ]
    },
    {
     "name": "stderr",
     "output_type": "stream",
     "text": [
      "127.0.0.1 - - [14/Apr/2022 13:35:54] \"\u001b[37mPOST /get_prediction HTTP/1.1\u001b[0m\" 200 -\n",
      "127.0.0.1 - - [14/Apr/2022 13:35:54] \"\u001b[37mPOST / HTTP/1.1\u001b[0m\" 200 -\n"
     ]
    },
    {
     "name": "stdout",
     "output_type": "stream",
     "text": [
      "{'business_code': 'U001', 'cust_number': 200792734, 'name_customer': 'HighRadius', 'clear_date': '2019-12-30', 'buisness_year': 2019, 'doc_id': '1929873765', 'posting_date': '2019-09-14', 'due_in_date': '2019-09-29', 'baseline_create_date': '2019-09-14', 'cust_payment_terms': 'NAA8', 'converted_usd': 2253.86}\n",
      "{'business_code': 'U001', 'cust_number': 200792734, 'name_customer': 'HighRadius', 'clear_date': '2019-12-30', 'buisness_year': 2019, 'doc_id': '1929873765', 'posting_date': '2019-09-14', 'due_in_date': '2019-09-29', 'baseline_create_date': '2019-09-14', 'cust_payment_terms': 'NAA8', 'converted_usd': 2253.86}\n",
      " Predict\n"
     ]
    },
    {
     "name": "stderr",
     "output_type": "stream",
     "text": [
      "127.0.0.1 - - [14/Apr/2022 13:35:54] \"\u001b[37mPOST / HTTP/1.1\u001b[0m\" 200 -\n"
     ]
    },
    {
     "name": "stdout",
     "output_type": "stream",
     "text": [
      "{'business_code': 'U001', 'cust_number': 200980828, 'name_customer': 'HighRadius', 'clear_date': '2019-08-08', 'buisness_year': 2019, 'doc_id': '1929646410', 'posting_date': '2019-07-22', 'due_in_date': '2019-08-11', 'baseline_create_date': '2019-07-22', 'cust_payment_terms': 'NAD1', 'converted_usd': 79656.6}\n",
      "{'business_code': 'U001', 'cust_number': 200980828, 'name_customer': 'HighRadius', 'clear_date': '2019-08-08', 'buisness_year': 2019, 'doc_id': '1929646410', 'posting_date': '2019-07-22', 'due_in_date': '2019-08-11', 'baseline_create_date': '2019-07-22', 'cust_payment_terms': 'NAD1', 'converted_usd': 79656.6}\n",
      " Predict\n",
      "[1929646410, 1929873765, 2960623488]\n",
      " Predict\n"
     ]
    },
    {
     "name": "stderr",
     "output_type": "stream",
     "text": [
      "127.0.0.1 - - [14/Apr/2022 13:38:37] \"\u001b[37mPOST /get_prediction HTTP/1.1\u001b[0m\" 200 -\n",
      "127.0.0.1 - - [14/Apr/2022 13:38:38] \"\u001b[37mPOST / HTTP/1.1\u001b[0m\" 200 -\n"
     ]
    },
    {
     "name": "stdout",
     "output_type": "stream",
     "text": [
      "{'business_code': 'U001', 'cust_number': 200980828, 'name_customer': 'HighRadius', 'clear_date': '2019-08-08', 'buisness_year': 2019, 'doc_id': '1929646410', 'posting_date': '2019-07-22', 'due_in_date': '2019-08-11', 'baseline_create_date': '2019-07-22', 'cust_payment_terms': 'NAD1', 'converted_usd': 79656.6}\n",
      "{'business_code': 'U001', 'cust_number': 200980828, 'name_customer': 'HighRadius', 'clear_date': '2019-08-08', 'buisness_year': 2019, 'doc_id': '1929646410', 'posting_date': '2019-07-22', 'due_in_date': '2019-08-11', 'baseline_create_date': '2019-07-22', 'cust_payment_terms': 'NAD1', 'converted_usd': 79656.6}\n",
      " Predict\n"
     ]
    },
    {
     "name": "stderr",
     "output_type": "stream",
     "text": [
      "127.0.0.1 - - [14/Apr/2022 13:38:38] \"\u001b[37mPOST / HTTP/1.1\u001b[0m\" 200 -\n"
     ]
    },
    {
     "name": "stdout",
     "output_type": "stream",
     "text": [
      "{'business_code': 'U001', 'cust_number': 200792734, 'name_customer': 'HighRadius', 'clear_date': '2019-12-30', 'buisness_year': 2019, 'doc_id': '1929873765', 'posting_date': '2019-09-14', 'due_in_date': '2019-09-29', 'baseline_create_date': '2019-09-14', 'cust_payment_terms': 'NAA8', 'converted_usd': 2253.86}\n",
      "{'business_code': 'U001', 'cust_number': 200792734, 'name_customer': 'HighRadius', 'clear_date': '2019-12-30', 'buisness_year': 2019, 'doc_id': '1929873765', 'posting_date': '2019-09-14', 'due_in_date': '2019-09-29', 'baseline_create_date': '2019-09-14', 'cust_payment_terms': 'NAA8', 'converted_usd': 2253.86}\n",
      " Predict\n"
     ]
    }
   ],
   "source": [
    "from flask import Flask, redirect, url_for, render_template, request,jsonify, make_response\n",
    "import New_Bucket\n",
    "import pandas as pd\n",
    "from flask_cors import CORS\n",
    "\n",
    "data = pd.DataFrame()\n",
    "app = Flask(__name__)\n",
    "CORS(app)\n",
    "\n",
    "@app.route(\"/\",methods=[\"POST\", \"GET\"])\n",
    "def home():\n",
    "    \n",
    "    if request.method == \"POST\":\n",
    "        print(request.json)\n",
    "        business_code = request.json[\"business_code\"]\n",
    "        cust_number = request.json['cust_number']\n",
    "        name_customer = request.json['name_customer']\n",
    "        clear_date = request.json['clear_date']\n",
    "        buisness_year = int(request.json['buisness_year'])\n",
    "        doc_id = int(request.json['doc_id'])\n",
    "        posting_date = request.json['posting_date']\n",
    "        due_in_date = request.json['due_in_date']\n",
    "        baseline_create_date = request.json['baseline_create_date']\n",
    "        cust_payment_terms = request.json['cust_payment_terms']\n",
    "        converted_usd = float(request.json['converted_usd'])\n",
    " \n",
    "        data['business_code'] = [business_code]\n",
    "        data['cust_number'] = [cust_number]\n",
    "        data['name_customer'] = [name_customer]\n",
    "        data['clear_date'] = [clear_date]\n",
    "        data['buisness_year'] = [buisness_year]\n",
    "        data['doc_id'] = [doc_id]\n",
    "        data['posting_date'] =[posting_date]\n",
    "        data['due_in_date'] = [due_in_date]\n",
    "        data['baseline_create_date'] = [baseline_create_date]\n",
    "        data['cust_payment_terms'] = [cust_payment_terms]\n",
    "        data['converted_usd'] = [converted_usd]\n",
    "        \n",
    "        \n",
    "        print(request.json)\n",
    "        \n",
    "       \n",
    "        \n",
    "        response = make_response(jsonify(New_Bucket.predict(data)),200)\n",
    "        response.headers[\"Content-Type\"] = \"application/json\"\n",
    "        return response\n",
    "    else:\n",
    "        return render_template(\"index1.html\")\n",
    "        \n",
    "@app.route(\"/get_prediction\", methods=[\"GET\",'POST'])\n",
    "def get_prediction():    \n",
    "    if request.method == \"POST\":\n",
    "        doc_id_list = list(request.json[\"data\"])\n",
    "        print(doc_id_list)\n",
    "        response = make_response(jsonify(New_Bucket.doc_id_bucket(doc_id_list)),200)\n",
    "        response.headers[\"Access-Control-Allow-Origin\"]=\"*\"\n",
    "        response.headers[\"Content-Type\"] = \"application/json\"\n",
    "        return response\n",
    "    else:\n",
    "        return render_template(\"index2.html\")\n",
    "    \n",
    "\n",
    "@app.route(\"/all\", methods=[\"GET\",'POST'])\n",
    "def alll():    \n",
    "    if request.method == \"POST\":        \n",
    "        response = make_response(jsonify(New_Bucket.alll()),200)       \n",
    "        response.headers[\"Content-Type\"] = \"application/json\"\n",
    "        return response\n",
    "    else:\n",
    "        return render_template(\"index3.html\")    \n",
    "    \n",
    "@app.route(\"/login\", methods=[\"POST\", \"GET\"])\n",
    "def login():\n",
    "    if request.method == \"POST\":\n",
    "        user = request.form[\"nm\"]\n",
    "        return redirect(url_for(\"user\", usr=user))\n",
    "    else:\n",
    "        return render_template(\"login.html\")\n",
    "\n",
    "@app.route(\"/<usr>\")\n",
    "def user(usr):\n",
    "    return f\"<h1>{usr}</h1>\"\n",
    "\n",
    "if __name__ == \"__main__\":\n",
    "    app.run()"
   ]
  },
  {
   "cell_type": "code",
   "execution_count": null,
   "metadata": {},
   "outputs": [],
   "source": [
    "!pip install flask_cors"
   ]
  },
  {
   "cell_type": "code",
   "execution_count": null,
   "metadata": {},
   "outputs": [],
   "source": []
  }
 ],
 "metadata": {
  "kernelspec": {
   "display_name": "Python 3",
   "language": "python",
   "name": "python3"
  },
  "language_info": {
   "codemirror_mode": {
    "name": "ipython",
    "version": 3
   },
   "file_extension": ".py",
   "mimetype": "text/x-python",
   "name": "python",
   "nbconvert_exporter": "python",
   "pygments_lexer": "ipython3",
   "version": "3.8.5"
  }
 },
 "nbformat": 4,
 "nbformat_minor": 5
}
